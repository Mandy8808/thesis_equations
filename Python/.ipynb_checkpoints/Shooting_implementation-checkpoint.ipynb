{
 "cells": [
  {
   "cell_type": "code",
   "execution_count": 1,
   "metadata": {},
   "outputs": [],
   "source": [
    "import numpy as np\n",
    "import matplotlib.pyplot as plt\n",
    "import time\n",
    "\n",
    "import equationsH as eq\n",
    "\n",
    "from scipy.integrate import solve_ivp"
   ]
  },
  {
   "cell_type": "code",
   "execution_count": 2,
   "metadata": {},
   "outputs": [],
   "source": [
    "# shooting\n",
    "# with polytropo\n",
    "def shootingP(p_i, sig_i, Up_, Low_, rmax, rmin_=1e-03,\n",
    "             L3_=1.5, c4_=-1/2, k_=100, L_=2, paso=1):\n",
    "    \"\"\"\n",
    "    este es con las ecuaciones con polítropo\n",
    "    N, g, a, b, p -> N, g, phi, phi', p\n",
    "    \"\"\"\n",
    "    p0, sig0 = p_i, sig_i\n",
    "    U0 = [1, 1, sig0, 0, p0]\n",
    "    \n",
    "    # IMPORTANT: it is not possible to find two event at same time\n",
    "    def negSig(r, U, c): return U[2]\n",
    "    def posSig(t, U, c): return U[-2]  # we used phi' as condition to find when phi grows\n",
    "    # neg\n",
    "    negSig.terminal = True; negSig.direction = -1\n",
    "    # pos\n",
    "    posSig.terminal = True; posSig.direction = 1\n",
    "  \n",
    "    while True:\n",
    "        w_ = (Up_+Low_)/2\n",
    "        c_ = [w_, c4_, L3_, L_, k_, p0]\n",
    "        \n",
    "        sol_ = solve_ivp(eq.ODE_eqP, [rmin_, rmax], U0, args=([c_]), events=(posSig, negSig))\n",
    "        \n",
    "        if sol_.t_events[0].size != 0:  # 0 -> no event, 1 -> happened the event\n",
    "            # print('positivo')\n",
    "            Low_ = w_\n",
    "            rTemp_ = sol_.t_events[0]\n",
    "        elif sol_.t_events[1].size != 0: \n",
    "            # print('negativo')\n",
    "            Up_ = w_\n",
    "            rTemp_ = sol_.t_events[1]\n",
    "        else:  # if it not have event in all r-interval, the w is fine\n",
    "            print('Encontrado', w_)\n",
    "            return w_\n",
    "        \n",
    "        # checking the lim freq. \n",
    "        if abs((Up_-Low_)/2)<=1e-15:\n",
    "            print('Maxima presición alcanzada', w_, 'radio', rTemp_)\n",
    "            return w_\n",
    "        \n",
    "        \n",
    "# shooting constante        \n",
    "def shootingC(p_i, sig_i, Up_, Low_, rmax, rho_, rmin_=1e-03,\n",
    "             L3_=1.5, c4_=-1/2, paso=1):\n",
    "    \"\"\"\n",
    "    para rho=cte\n",
    "    # N, g, a, b, p -> N, g, phi, phi', p\n",
    "    \"\"\"\n",
    "    p0, sig0 = p_i, sig_i\n",
    "    U0 = [1, 1, sig0, 0, p0]\n",
    "    \n",
    "    # IMPORTANT: it is not possible to find two event at same time\n",
    "    def negSig(r, U, c): return U[2]\n",
    "    def posSig(t, U, c): return U[-2]  # we used phi' as condition to find when phi grows\n",
    "    # neg\n",
    "    negSig.terminal = True; negSig.direction = -1\n",
    "    # pos\n",
    "    posSig.terminal = True; posSig.direction = 1\n",
    "    \n",
    "    while True:\n",
    "        w_ = (Up_+Low_)/2   \n",
    "        c_ = [w_, c4, L3, rho_, p0]\n",
    "        \n",
    "        sol_ = solve_ivp(eq.ODE_eq, [rmin_, rmax], U0, args=([c_]), events=(posSig, negSig))\n",
    "        \n",
    "        if sol_.t_events[0].size != 0:  # 0 -> no event, 1 -> happened the event\n",
    "            # print('positivo')\n",
    "            Low_ = w_\n",
    "            rTemp_ = sol_.t_events[0]\n",
    "        elif sol_.t_events[1].size != 0: \n",
    "            # print('negativo')\n",
    "            Up_ = w_\n",
    "            rTemp_ = sol_.t_events[1]\n",
    "        else:  # if it not have event in all r-interval, the w is fine\n",
    "            print('Encontrado', w_)\n",
    "            return w_\n",
    "        \n",
    "        # checking the lim freq. \n",
    "        if abs((Up_-Low_)/2)<=1e-15:\n",
    "            print('Maxima presición alcanzada', w_, 'radio', rTemp_)\n",
    "            return w_"
   ]
  },
  {
   "cell_type": "code",
   "execution_count": 2,
   "metadata": {},
   "outputs": [],
   "source": [
    "# mass definition\n",
    "M = lambda r, g: 4*np.pi*(r*(1-1/g**2))"
   ]
  },
  {
   "cell_type": "code",
   "execution_count": 4,
   "metadata": {},
   "outputs": [
    {
     "name": "stdout",
     "output_type": "stream",
     "text": [
      "Maxima presición alcanzada 3.492097017216368 radio [16.61501963]\n",
      "--- 5.128229856491089 seconds ---\n"
     ]
    }
   ],
   "source": [
    "# Example with constant density \n",
    "start_time = time.time()\n",
    "# N, g, a, b, p = U\n",
    "\n",
    "# parameters\n",
    "\n",
    "rmax = 20\n",
    "L3 = 1.5\n",
    "c4 = 1/2\n",
    "rho = 0.01\n",
    "p0 = 2.8\n",
    "sig0 = 0.25\n",
    "\n",
    "Up = 3.7\n",
    "Low = 3.3\n",
    "\n",
    "w = shootingC(p0, sig0, Up, Low, rmax, rho, rmin_=1e-01)\n",
    "print(\"--- %s seconds ---\" % (time.time() - start_time))"
   ]
  },
  {
   "cell_type": "code",
   "execution_count": 5,
   "metadata": {},
   "outputs": [
    {
     "name": "stdout",
     "output_type": "stream",
     "text": [
      "[array([16.25103182])]\n"
     ]
    }
   ],
   "source": [
    "# Computing with the previusly results\n",
    "\n",
    "# N, g, a, b, p = U\n",
    "\n",
    "# parameters\n",
    "rmin = 1e-1\n",
    "rmax = 17.1\n",
    "L3 = 1.5\n",
    "c4 = 1/2\n",
    "rho = 0.01\n",
    "p0 = 2.8\n",
    "sig0 = 0.25\n",
    "\n",
    "w = 3.492097017216368\n",
    "\n",
    "# %% Define time spans, initial values, and constants\n",
    "c = [w, c4, L3, rho, p0]  # w, c4, L3, rho\n",
    "rspan = np.linspace(rmin, rmax, 300)\n",
    "# N, g, a, b, p -> N, g, phi, phi', p\n",
    "U0 = [1, 1, sig0, 0, p0]\n",
    "\n",
    "def zeroP(r, U, c): return U[4]\n",
    "#def zeroSig(r, U, c): return U[4]\n",
    "zeroP.direction = -1\n",
    "#zeroSig.terminal = True\n",
    "\n",
    "sol = solve_ivp(eq.ODE_eq, [rspan[0], rspan[-1]], U0, t_eval=rspan, args=([c]),\n",
    "               events=(zeroP))  # rtol = 1e-5\n",
    "\n",
    "print(sol.t_events)"
   ]
  },
  {
   "cell_type": "code",
   "execution_count": 6,
   "metadata": {},
   "outputs": [
    {
     "data": {
      "text/plain": [
       "<matplotlib.legend.Legend at 0x7fe3acdd2e50>"
      ]
     },
     "execution_count": 6,
     "metadata": {},
     "output_type": "execute_result"
    },
    {
     "data": {
      "image/png": "[encoded data removed]",
      "text/plain": [
       "<Figure size 648x288 with 2 Axes>"
      ]
     },
     "metadata": {
      "needs_background": "light"
     },
     "output_type": "display_data"
    }
   ],
   "source": [
    "# Plotting the results\n",
    "fig, ax = plt.subplots(nrows=1, ncols=2, figsize=(9,4))\n",
    "\n",
    "ax[0].plot(sol.t, sol.y[-1]/sol.y[-1][0], label='pressure')\n",
    "ax[0].plot(sol.t, sol.y[2]/sol.y[2][0], label='sigma')\n",
    "\n",
    "ax[0].vlines(x=sol.t_events, ymin=0, ymax=1, ls=':', alpha=0.4, color='black')\n",
    "#ax[0].yscale('log')\n",
    "\n",
    "ax[1].plot(sol.t, M(sol.t, sol.y[1]), label='mass')\n",
    "ax[1].vlines(x=sol.t_events, ymin=0, ymax=200, ls=':', alpha=0.4, color='black')\n",
    "\n",
    "ax[0].legend(loc='upper center')\n",
    "ax[1].legend(loc='upper center')"
   ]
  },
  {
   "cell_type": "code",
   "execution_count": 7,
   "metadata": {},
   "outputs": [
    {
     "name": "stdout",
     "output_type": "stream",
     "text": [
      "Maxima presición alcanzada 1.2351568890609324 radio [41.65907937]\n",
      "--- 3.9447648525238037 seconds ---\n"
     ]
    }
   ],
   "source": [
    "# Example with polytropo\n",
    "start_time = time.time()\n",
    "\n",
    "# N, g, a, b, p = U\n",
    "\n",
    "# parameters\n",
    "rmin = 1e-3\n",
    "rmax = 48\n",
    "#L3 = 1.5\n",
    "#c4 = -1/2\n",
    "#k = 100\n",
    "#L = 2 # gamma\n",
    "p0 = 0.001\n",
    "sig0 = 0.25\n",
    "\n",
    "\n",
    "Up = 1.3\n",
    "Low = 1.2\n",
    "\n",
    "w = shootingP(p0, sig0, Up, Low, rmax, rmin_=1e-01, L3_=1.5, c4_=-1/2, k_=100, L_=2, paso=1)\n",
    "print(\"--- %s seconds ---\" % (time.time() - start_time))"
   ]
  },
  {
   "cell_type": "code",
   "execution_count": 15,
   "metadata": {},
   "outputs": [
    {
     "name": "stdout",
     "output_type": "stream",
     "text": [
      "[array([], dtype=float64)]\n"
     ]
    }
   ],
   "source": [
    "# Computing with the previusly results\n",
    "\n",
    "# N, g, a, b, p = U\n",
    "\n",
    "# parameters\n",
    "rmin = 1e-1\n",
    "rmax = 48\n",
    "L3 = 1.5\n",
    "c4 = -1/2\n",
    "k = 100\n",
    "L = 2 # gamma\n",
    "p0 = 0.001\n",
    "sig0 = 0.25\n",
    "\n",
    "w = 1.2351568890609324\n",
    "\n",
    "# %% Define time spans, initial values, and constants\n",
    "c = [w, c4, L3, L, k, p0]\n",
    "rspan = np.linspace(rmin, rmax, 300)\n",
    "# N, g, a, b, p -> N, g, phi, phi', p\n",
    "U0 = [1, 1, sig0, 0, p0]\n",
    "\n",
    "def zeroP(r, U, c): return U[4]\n",
    "#def zeroSig(r, U, c): return U[4]\n",
    "zeroP.direction = -1\n",
    "#zeroSig.terminal = True\n",
    "\n",
    "sol = solve_ivp(eq.ODE_eqP, [rspan[0], rspan[-1]], U0, t_eval=rspan, args=([c]),\n",
    "               events=(zeroP))  # rtol = 1e-5\n",
    "\n",
    "print(sol.t_events)"
   ]
  },
  {
   "cell_type": "code",
   "execution_count": 23,
   "metadata": {},
   "outputs": [
    {
     "data": {
      "text/plain": [
       "<matplotlib.legend.Legend at 0x7fdb5ce4e910>"
      ]
     },
     "execution_count": 23,
     "metadata": {},
     "output_type": "execute_result"
    },
    {
     "data": {
      "image/png": "[encoded data removed]",
      "text/plain": [
       "<Figure size 648x288 with 2 Axes>"
      ]
     },
     "metadata": {
      "needs_background": "light"
     },
     "output_type": "display_data"
    }
   ],
   "source": [
    "# Plotting the results\n",
    "fig, ax = plt.subplots(nrows=1, ncols=2, figsize=(9,4))\n",
    "\n",
    "ax[0].plot(sol.t, sol.y[-1]/sol.y[-1][0], label='pressure')\n",
    "ax[0].plot(sol.t, sol.y[2]/sol.y[2][0], label='sigma')\n",
    "\n",
    "ax[0].vlines(x=sol.t_events, ymin=0, ymax=1, ls=':', alpha=0.4, color='black')\n",
    "ax[0].hlines(y=p0/1e04, xmin=0, xmax=100, ls=':', alpha=0.4, color='red')\n",
    "ax[0].set_yscale('log')\n",
    "\n",
    "ax[1].plot(sol.t, M(sol.t, sol.y[1]), label='mass')\n",
    "ax[1].vlines(x=sol.t_events, ymin=0, ymax=200, ls=':', alpha=0.4, color='black')\n",
    "\n",
    "ax[0].legend(loc='upper center')\n",
    "ax[1].legend(loc='upper center')"
   ]
  },
  {
   "cell_type": "code",
   "execution_count": 26,
   "metadata": {},
   "outputs": [
    {
     "data": {
      "text/plain": [
       "127.58678908581548"
      ]
     },
     "execution_count": 26,
     "metadata": {},
     "output_type": "execute_result"
    }
   ],
   "source": [
    "M(sol.t, sol.y[1])[-1]"
   ]
  },
  {
   "cell_type": "markdown",
   "metadata": {},
   "source": [
    "## Old shooting version "
   ]
  },
  {
   "cell_type": "code",
   "execution_count": null,
   "metadata": {},
   "outputs": [],
   "source": [
    "# shooting\n",
    "\n",
    "def shootingP(p_i, sig_i, Up_, Low_, rmax, rmin_=1e-03,\n",
    "             L3_=1.5, c4_=-1/2, k_=100, L_=2, paso=1):\n",
    "    \"\"\"\n",
    "    este es con las ecuaciones con polítropo\n",
    "    \"\"\"\n",
    "    p0, sig0 = p_i, sig_i\n",
    "    # N, g, a, b, p -> N, g, phi, phi', p\n",
    "    U0 = [1, 1, sig0, 0, p0]\n",
    "    \n",
    "    rTemp_ = rmin_+paso\n",
    "    while True:\n",
    "        w_ = (Up_+Low_)/2\n",
    "        \n",
    "        c_ = [w_, c4_, L3_, L_, k_, p0]  # w, c4, L3, rho, p0\n",
    "        \n",
    "        sol_ = solve_ivp(eq.ODE_eqP, [rmin_, rTemp_], U0, args=([c_]))\n",
    "        \n",
    "        sigmaV_ = sol_.y[2]\n",
    "        \n",
    "        if (sigmaV_[-1] >= 2*sig0) or (sigmaV_[-1] >= sigmaV_[-2]):\n",
    "            # positivo\n",
    "            # print('positivo')\n",
    "            Low_ = w_\n",
    "        elif (sigmaV_[-1] <= -2*sig0) or (sigmaV_[-1] < 0):\n",
    "            # negativo\n",
    "            # print('negativo')\n",
    "            Up_ = w_\n",
    "        elif int(rTemp_) == int(rmax):\n",
    "            print('Encontrado', w_, ' ', rTemp_)\n",
    "            return w_\n",
    "        else:\n",
    "            rTemp_ += paso\n",
    "        \n",
    "        # revisando que no lo encuentre\n",
    "        if abs((Up_-Low_)/2)<=1e-15:\n",
    "            print('Maxima presición alcanzada', w_, 'radio', rTemp_)\n",
    "            return w_\n",
    "        \n",
    "        \n",
    "# shooting constante        \n",
    "def shootingC(p_i, sig_i, Up_, Low_, rmax, rho_, rmin_=1e-03,\n",
    "             L3_=1.5, c4_=-1/2, paso=1):\n",
    "    \"\"\"\n",
    "    para rho=cte\n",
    "    \"\"\"\n",
    "    p0, sig0 = p_i, sig_i\n",
    "    # N, g, a, b, p -> N, g, phi, phi', p\n",
    "    U0 = [1, 1, sig0, 0, p0]\n",
    "    \n",
    "    rTemp_ = rmin_+paso\n",
    "    while True:\n",
    "        w_ = (Up_+Low_)/2\n",
    "        \n",
    "        c_ = [w_, c4, L3, rho_, p0]  # w, c4, L3, rho, p0\n",
    "        \n",
    "        sol_ = solve_ivp(eq.ODE_eq, [rmin_, rTemp_], U0, args=([c_]))\n",
    "        \n",
    "        sigmaV_ = sol_.y[2]\n",
    "        \n",
    "        if (sigmaV_[-1] >= 2*sig0) or (sigmaV_[-1] >= sigmaV_[-2]):\n",
    "            # positivo\n",
    "            # print('positivo')\n",
    "            Low_ = w_\n",
    "        elif (sigmaV_[-1] <= -2*sig0) or (sigmaV_[-1] < 0):\n",
    "            # negativo\n",
    "            # print('negativo')\n",
    "            Up_ = w_\n",
    "        elif int(rTemp_) == int(rmax):\n",
    "            print('Encontrado', w_, ' ', rTemp_)\n",
    "            return w_\n",
    "        else:\n",
    "            rTemp_ += paso\n",
    "        \n",
    "        # revisando que no lo encuentre\n",
    "        if abs((Up_-Low_)/2)<=1e-15:\n",
    "            print('Maxima presición alcanzada', w_, 'radio', rTemp_)\n",
    "            return w_"
   ]
  },
  {
   "cell_type": "code",
   "execution_count": null,
   "metadata": {},
   "outputs": [],
   "source": []
  }
 ],
 "metadata": {
  "kernelspec": {
   "display_name": "Python 3",
   "language": "python",
   "name": "python3"
  },
  "language_info": {
   "codemirror_mode": {
    "name": "ipython",
    "version": 3
   },
   "file_extension": ".py",
   "mimetype": "text/x-python",
   "name": "python",
   "nbconvert_exporter": "python",
   "pygments_lexer": "ipython3",
   "version": "3.8.5"
  }
 },
 "nbformat": 4,
 "nbformat_minor": 4
}
